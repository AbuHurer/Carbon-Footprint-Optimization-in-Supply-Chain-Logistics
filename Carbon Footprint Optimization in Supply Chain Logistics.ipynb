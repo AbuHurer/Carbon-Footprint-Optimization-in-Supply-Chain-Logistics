{
 "cells": [
  {
   "cell_type": "code",
   "execution_count": null,
   "id": "c57658fe-d60e-491b-9469-35e82fbd004e",
   "metadata": {},
   "outputs": [],
   "source": [
    "#DATA PREPROCESSING\n",
    "import pandas as pd\n",
    "from sklearn.preprocessing import StandardScaler, OneHotEncoder\n",
    "from sklearn.compose import ColumnTransformer\n",
    "from sklearn.pipeline import Pipeline\n",
    "from sklearn.impute import SimpleImputer\n",
    "\n",
    "# Load data\n",
    "df = pd.read_csv('route_data.csv')\n",
    "\n",
    "# Define features\n",
    "numerical = ['fuel_usage', 'cargo_weight', 'temperature', 'humidity', 'time_taken']\n",
    "categorical = ['vehicle_type', 'traffic_condition']\n",
    "\n",
    "# Pipelines\n",
    "num_pipeline = Pipeline([\n",
    "    ('imputer', SimpleImputer(strategy='mean')),\n",
    "    ('scaler', StandardScaler())\n",
    "])\n",
    "cat_pipeline = Pipeline([\n",
    "    ('imputer', SimpleImputer(strategy='most_frequent')),\n",
    "    ('encoder', OneHotEncoder(handle_unknown='ignore'))\n",
    "])\n",
    "\n",
    "preprocessor = ColumnTransformer([\n",
    "    ('num', num_pipeline, numerical),\n",
    "    ('cat', cat_pipeline, categorical)\n",
    "])\n",
    "\n",
    "X = df.drop(columns='carbon_emission')\n",
    "y = df['carbon_emission']\n"
   ]
  },
  {
   "cell_type": "code",
   "execution_count": null,
   "id": "a141eec4-a3a7-4e1a-875a-bd66782b2711",
   "metadata": {},
   "outputs": [],
   "source": [
    "#MODEL TRAINING(DEEP LEARNING)\n",
    "from sklearn.model_selection import train_test_split\n",
    "from tensorflow.keras.models import Sequential\n",
    "from tensorflow.keras.layers import Dense\n",
    "from tensorflow.keras.optimizers import Adam\n",
    "\n",
    "# Preprocess\n",
    "X_processed = preprocessor.fit_transform(X)\n",
    "X_train, X_test, y_train, y_test = train_test_split(X_processed, y, test_size=0.2)\n",
    "\n",
    "# Model\n",
    "model = Sequential([\n",
    "    Dense(64, activation='relu', input_shape=(X_train.shape[1],)),\n",
    "    Dense(32, activation='relu'),\n",
    "    Dense(1)  # Regression output\n",
    "])\n",
    "model.compile(optimizer=Adam(0.001), loss='mse', metrics=['mae'])\n",
    "\n",
    "# Train\n",
    "model.fit(X_train, y_train, epochs=50, batch_size=16, validation_split=0.2)\n"
   ]
  },
  {
   "cell_type": "code",
   "execution_count": null,
   "id": "1810d154-be39-4ede-9b2c-e5fc44e0277b",
   "metadata": {},
   "outputs": [],
   "source": [
    "#EVALUATION METRICS\n",
    "from sklearn.metrics import mean_absolute_error, mean_squared_error\n",
    "import numpy as np\n",
    "\n",
    "preds = model.predict(X_test)\n",
    "mae = mean_absolute_error(y_test, preds)\n",
    "rmse = np.sqrt(mean_squared_error(y_test, preds))\n",
    "percent_error = np.mean(np.abs((y_test - preds.flatten()) / y_test)) * 100\n",
    "\n",
    "print(f\"MAE: {mae:.2f} kg CO₂\")\n",
    "print(f\"RMSE: {rmse:.2f} kg CO₂\")\n",
    "print(f\"Average % Error: {percent_error:.2f}%\")"
   ]
  },
  {
   "cell_type": "code",
   "execution_count": null,
   "id": "80e53341-958d-47b8-8ca8-c6b9f3b72c72",
   "metadata": {},
   "outputs": [],
   "source": [
    "#Route Suggestion Engine (Pseudo-Workflow)\n",
    "def suggest_route(routes_df):\n",
    "    # Preprocess routes\n",
    "    processed = preprocessor.transform(routes_df)\n",
    "    \n",
    "    # Predict emissions\n",
    "    predicted_emissions = model.predict(processed)\n",
    "    routes_df['predicted_emissions'] = predicted_emissions\n",
    "\n",
    "    # Suggest the lowest-emission route\n",
    "    best_route = routes_df.loc[routes_df['predicted_emissions'].idxmin()]\n",
    "    return best_route\n"
   ]
  }
 ],
 "metadata": {
  "kernelspec": {
   "display_name": "Python 3 (ipykernel)",
   "language": "python",
   "name": "python3"
  },
  "language_info": {
   "codemirror_mode": {
    "name": "ipython",
    "version": 3
   },
   "file_extension": ".py",
   "mimetype": "text/x-python",
   "name": "python",
   "nbconvert_exporter": "python",
   "pygments_lexer": "ipython3",
   "version": "3.12.4"
  }
 },
 "nbformat": 4,
 "nbformat_minor": 5
}
